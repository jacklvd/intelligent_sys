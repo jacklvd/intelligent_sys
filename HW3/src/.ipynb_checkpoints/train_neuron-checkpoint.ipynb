{
 "cells": [
  {
   "cell_type": "code",
   "execution_count": 1,
   "metadata": {},
   "outputs": [],
   "source": [
    "import numpy as np\n",
    "import pandas as pd\n",
    "import seaborn as sns\n",
    "import dataframe_image as dfi\n",
    "import matplotlib.pyplot as plt\n",
    "import plotly\n",
    "import random"
   ]
  },
  {
   "cell_type": "code",
   "execution_count": 2,
   "metadata": {},
   "outputs": [
    {
     "name": "stdout",
     "output_type": "stream",
     "text": [
      "[[0. 0. 0. ... 0. 0. 9.]\n",
      " [0. 0. 0. ... 0. 0. 7.]\n",
      " [0. 0. 0. ... 0. 0. 3.]\n",
      " ...\n",
      " [0. 0. 0. ... 0. 0. 5.]\n",
      " [0. 0. 0. ... 0. 0. 8.]\n",
      " [0. 0. 0. ... 0. 0. 1.]]\n"
     ]
    }
   ],
   "source": [
    "train_ds = np.loadtxt('../assets/training_dataset.txt', dtype=float)\n",
    "test_ds = np.loadtxt('../assets/test_dataset.txt', dtype=float)\n",
    "print(train_ds)"
   ]
  },
  {
   "cell_type": "code",
   "execution_count": 3,
   "metadata": {},
   "outputs": [],
   "source": [
    "def label_extract(train_data):\n",
    "    label_list = list()\n",
    "    for val in train_data:\n",
    "        label_list.append(int(val[784]))\n",
    "    label_list = np.array(label_list)\n",
    "    return label_list\n",
    "\n",
    "def init_variables():\n",
    "    w1 = np.random.randn(10, 784) # random number between -0.5 and 0.5 (weight from input to hidden)\n",
    "    b1 = np.random.randn(10, 1) # bias of first layer\n",
    "    w2 = np.random.randn(10, 10) # weight for second hidden layer\n",
    "    b2 = np.random.randn(10, 1) # bias for second layer\n",
    "    return w1, b1, w2, b2\n",
    "\n",
    "def relu(input_value):\n",
    "    return np.maximum(input_value, 0)\n",
    "\n",
    "def relu_derivative(z):\n",
    "    return z > 0\n",
    "\n",
    "def softmax_activation(z):\n",
    "    activate = np.exp(z) / sum(np.exp(z))\n",
    "    return activate\n",
    "\n",
    "def feed_forward(input_value):\n",
    "    pass\n",
    "\n",
    "def back_propagation(epochs):\n",
    "    pass\n",
    "\n",
    "def train(input_value, output_value):\n",
    "    pass"
   ]
  },
  {
   "cell_type": "code",
   "execution_count": 4,
   "metadata": {},
   "outputs": [
    {
     "name": "stdout",
     "output_type": "stream",
     "text": [
      "(4000, 785)\n"
     ]
    }
   ],
   "source": [
    "print(train_ds.shape)"
   ]
  },
  {
   "cell_type": "code",
   "execution_count": 6,
   "metadata": {},
   "outputs": [],
   "source": [
    "train_label = label_extract(train_ds)\n",
    "test_label = label_extract(test_ds)"
   ]
  },
  {
   "cell_type": "code",
   "execution_count": 7,
   "metadata": {
    "collapsed": true,
    "jupyter": {
     "outputs_hidden": true
    },
    "tags": []
   },
   "outputs": [
    {
     "data": {
      "text/plain": [
       "array([4, 2, 7, 7, 7, 7, 5, 8, 0, 9, 9, 2, 9, 1, 7, 8, 8, 5, 0, 2, 4, 3,\n",
       "       4, 9, 8, 9, 1, 6, 7, 7, 5, 1, 4, 2, 8, 4, 9, 5, 5, 2, 0, 8, 0, 5,\n",
       "       6, 0, 5, 1, 5, 1, 5, 4, 3, 8, 0, 9, 4, 1, 2, 0, 0, 6, 4, 3, 7, 8,\n",
       "       0, 6, 8, 9, 5, 0, 8, 0, 7, 4, 5, 8, 1, 0, 5, 4, 2, 0, 8, 8, 2, 5,\n",
       "       3, 3, 7, 4, 1, 0, 7, 1, 0, 2, 9, 2, 6, 8, 8, 4, 4, 3, 5, 5, 6, 8,\n",
       "       3, 9, 5, 1, 2, 6, 2, 3, 4, 8, 6, 5, 0, 5, 3, 4, 9, 3, 1, 1, 6, 5,\n",
       "       6, 5, 9, 2, 4, 2, 0, 5, 0, 2, 9, 8, 3, 9, 0, 1, 7, 4, 8, 7, 7, 5,\n",
       "       3, 5, 4, 1, 7, 8, 3, 0, 6, 2, 9, 0, 5, 0, 0, 3, 9, 9, 8, 9, 2, 8,\n",
       "       4, 4, 9, 8, 7, 3, 1, 3, 1, 5, 1, 4, 1, 9, 0, 4, 6, 2, 0, 0, 5, 3,\n",
       "       8, 6, 4, 8, 6, 2, 1, 5, 1, 2, 9, 6, 6, 5, 2, 9, 8, 9, 2, 1, 4, 7,\n",
       "       4, 2, 2, 8, 9, 5, 8, 7, 6, 7, 6, 2, 6, 9, 5, 4, 7, 9, 4, 5, 2, 2,\n",
       "       1, 4, 1, 3, 8, 1, 9, 6, 2, 9, 2, 7, 8, 6, 6, 7, 8, 4, 6, 1, 8, 2,\n",
       "       3, 2, 6, 1, 7, 6, 3, 3, 1, 6, 7, 6, 7, 8, 5, 6, 3, 7, 8, 2, 7, 4,\n",
       "       5, 7, 7, 0, 7, 7, 7, 7, 9, 9, 0, 2, 3, 7, 1, 1, 9, 6, 7, 4, 7, 2,\n",
       "       0, 5, 9, 6, 4, 4, 8, 6, 3, 0, 8, 1, 3, 1, 9, 8, 6, 9, 2, 3, 6, 8,\n",
       "       7, 4, 1, 5, 7, 8, 6, 7, 1, 9, 0, 3, 5, 9, 6, 3, 5, 6, 9, 2, 5, 2,\n",
       "       7, 2, 5, 0, 9, 5, 6, 8, 9, 1, 0, 3, 8, 9, 8, 2, 3, 4, 3, 6, 9, 5,\n",
       "       4, 9, 2, 8, 0, 9, 5, 0, 0, 3, 1, 2, 0, 7, 9, 2, 7, 5, 1, 7, 3, 0,\n",
       "       0, 2, 9, 2, 2, 1, 1, 6, 5, 5, 4, 0, 7, 0, 1, 6, 5, 3, 8, 1, 7, 5,\n",
       "       1, 4, 3, 5, 8, 8, 7, 1, 6, 1, 4, 5, 1, 6, 5, 9, 2, 9, 8, 1, 2, 7,\n",
       "       7, 1, 4, 9, 5, 2, 5, 7, 3, 7, 2, 8, 8, 0, 9, 5, 6, 6, 8, 9, 5, 2,\n",
       "       6, 3, 9, 3, 3, 1, 3, 4, 8, 2, 5, 1, 4, 4, 4, 2, 1, 6, 3, 3, 7, 9,\n",
       "       4, 9, 3, 9, 3, 3, 4, 5, 8, 5, 8, 4, 4, 8, 9, 6, 0, 6, 4, 3, 4, 0,\n",
       "       6, 8, 7, 8, 3, 8, 9, 1, 6, 4, 3, 5, 2, 8, 2, 6, 0, 7, 8, 2, 7, 7,\n",
       "       7, 6, 0, 5, 2, 8, 4, 8, 1, 2, 5, 6, 7, 6, 5, 9, 8, 3, 3, 4, 2, 8,\n",
       "       1, 1, 0, 7, 0, 5, 5, 6, 0, 6, 3, 9, 2, 6, 8, 3, 8, 7, 5, 8, 5, 7,\n",
       "       5, 9, 0, 8, 0, 9, 2, 6, 2, 5, 0, 7, 8, 9, 4, 0, 2, 2, 2, 6, 6, 7,\n",
       "       1, 9, 5, 9, 1, 7, 9, 7, 4, 5, 3, 1, 8, 5, 9, 0, 5, 3, 6, 4, 2, 1,\n",
       "       6, 4, 8, 5, 1, 1, 5, 4, 3, 2, 0, 7, 3, 6, 1, 7, 6, 3, 0, 0, 7, 9,\n",
       "       8, 6, 1, 8, 4, 8, 1, 9, 3, 1, 5, 0, 5, 1, 0, 8, 6, 8, 8, 0, 9, 2,\n",
       "       2, 8, 0, 2, 9, 0, 0, 7, 4, 9, 5, 0, 0, 3, 1, 8, 6, 1, 3, 4, 9, 6,\n",
       "       4, 7, 0, 4, 9, 4, 3, 3, 6, 1, 2, 6, 3, 1, 7, 7, 9, 5, 9, 8, 2, 2,\n",
       "       9, 3, 3, 7, 7, 1, 4, 7, 8, 1, 9, 5, 0, 8, 0, 1, 0, 2, 9, 2, 5, 6,\n",
       "       3, 9, 9, 8, 0, 0, 1, 4, 7, 5, 3, 3, 8, 8, 0, 9, 8, 5, 0, 6, 2, 6,\n",
       "       0, 6, 0, 4, 0, 9, 9, 8, 7, 5, 9, 0, 9, 2, 7, 8, 9, 8, 1, 7, 2, 9,\n",
       "       5, 2, 0, 3, 3, 1, 6, 4, 6, 4, 7, 4, 1, 4, 3, 9, 1, 9, 2, 9, 4, 1,\n",
       "       6, 6, 6, 3, 0, 2, 9, 7, 1, 7, 0, 0, 5, 1, 4, 4, 3, 3, 7, 0, 1, 4,\n",
       "       2, 4, 2, 8, 2, 3, 6, 6, 7, 0, 6, 9, 4, 5, 4, 0, 2, 3, 6, 5, 6, 8,\n",
       "       3, 3, 1, 0, 6, 3, 3, 2, 1, 1, 4, 6, 1, 5, 6, 0, 4, 4, 4, 2, 7, 5,\n",
       "       2, 8, 7, 4, 5, 1, 8, 4, 5, 3, 2, 4, 1, 4, 3, 1, 3, 1, 4, 0, 7, 2,\n",
       "       6, 9, 2, 5, 0, 9, 2, 2, 6, 5, 1, 8, 6, 9, 0, 3, 3, 3, 7, 2, 0, 4,\n",
       "       4, 8, 1, 0, 7, 6, 7, 7, 8, 3, 0, 7, 1, 9, 2, 8, 3, 7, 6, 5, 1, 5,\n",
       "       4, 0, 1, 9, 1, 1, 1, 3, 0, 2, 3, 2, 1, 7, 6, 6, 9, 3, 3, 9, 4, 6,\n",
       "       4, 1, 3, 4, 2, 8, 4, 4, 6, 3, 7, 7, 7, 3, 4, 6, 5, 3, 3, 5, 0, 0,\n",
       "       7, 7, 0, 5, 1, 5, 8, 5, 4, 0, 0, 7, 2, 6, 2, 8, 6, 9, 4, 4, 0, 1,\n",
       "       4, 7, 3, 9, 5, 3, 6, 2, 8, 3])"
      ]
     },
     "execution_count": 7,
     "metadata": {},
     "output_type": "execute_result"
    }
   ],
   "source": [
    "test_label"
   ]
  },
  {
   "cell_type": "code",
   "execution_count": null,
   "metadata": {},
   "outputs": [],
   "source": []
  }
 ],
 "metadata": {
  "kernelspec": {
   "display_name": "Python 3 (ipykernel)",
   "language": "python",
   "name": "python3"
  },
  "language_info": {
   "codemirror_mode": {
    "name": "ipython",
    "version": 3
   },
   "file_extension": ".py",
   "mimetype": "text/x-python",
   "name": "python",
   "nbconvert_exporter": "python",
   "pygments_lexer": "ipython3",
   "version": "3.8.2"
  },
  "vscode": {
   "interpreter": {
    "hash": "563e562fb1a8218020a324862a7d912b9b34b48de87e1da2df50a1efe425743f"
   }
  }
 },
 "nbformat": 4,
 "nbformat_minor": 4
}
