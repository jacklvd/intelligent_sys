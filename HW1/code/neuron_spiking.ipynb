{
 "cells": [
  {
   "cell_type": "code",
   "execution_count": 4,
   "metadata": {},
   "outputs": [],
   "source": [
    "import pandas as pd\n",
    "import numpy as np\n",
    "from matplotlib import pyplot as plt"
   ]
  },
  {
   "cell_type": "markdown",
   "metadata": {},
   "source": [
    "# Problem 1:"
   ]
  },
  {
   "cell_type": "code",
   "execution_count": 4,
   "metadata": {},
   "outputs": [],
   "source": [
    "# define needed variables\n",
    "steps = 1000\n",
    "a = 0.02\n",
    "b = 0.25\n",
    "c = -65\n",
    "d = 8\n",
    "V = -64"
   ]
  },
  {
   "cell_type": "markdown",
   "metadata": {},
   "source": [
    "### 1a:"
   ]
  },
  {
   "cell_type": "code",
   "execution_count": null,
   "metadata": {},
   "outputs": [],
   "source": [
    "def regular_neuron_spiking(row, a, b, c, d, v, VV, uu, spike_ts, T1=0, I=0.0):\n",
    "    for t in np.linspace(0, steps, 4001): # 4001 since we need to draw 4 charts\n",
    "        if t > T1:\n",
    "            I = 1.0\n",
    "        else:\n",
    "            I = 0\n",
    "        "
   ]
  }
 ],
 "metadata": {
  "kernelspec": {
   "display_name": "Python 3.10.7 64-bit (microsoft store)",
   "language": "python",
   "name": "python3"
  },
  "language_info": {
   "codemirror_mode": {
    "name": "ipython",
    "version": 3
   },
   "file_extension": ".py",
   "mimetype": "text/x-python",
   "name": "python",
   "nbconvert_exporter": "python",
   "pygments_lexer": "ipython3",
   "version": "3.10.7"
  },
  "orig_nbformat": 4,
  "vscode": {
   "interpreter": {
    "hash": "215aead41f9601d44b50b41e7467c6ba48ac3c6af4742fd5d359fbd8d424b935"
   }
  }
 },
 "nbformat": 4,
 "nbformat_minor": 2
}
