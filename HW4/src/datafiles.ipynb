{
 "cells": [
  {
   "cell_type": "code",
   "execution_count": 3,
   "metadata": {},
   "outputs": [],
   "source": [
    "import random\n",
    "import numpy as np"
   ]
  },
  {
   "cell_type": "code",
   "execution_count": 4,
   "metadata": {},
   "outputs": [],
   "source": [
    "# load dataset\n",
    "train_data = np.loadtxt('../HW4_material/MNISTnumImages5000_balanced.txt', dtype=float)\n",
    "train_labels = np.loadtxt('../HW4_material/MNISTnumLabels5000_balanced.txt', dtype=float)"
   ]
  },
  {
   "cell_type": "code",
   "execution_count": 5,
   "metadata": {},
   "outputs": [],
   "source": [
    "training_dataset = list()\n",
    "test_dataset = list()\n",
    "\n",
    "# this function is used to take 400 label-digits of 0 and 1 to combine into 1 training_dataset\n",
    "def train_set(num_label):\n",
    "    img = [train_data[key] for (key, label) in enumerate(train_labels) if int(label) == num_label]\n",
    "    # to keep track of label, we will then add the label to the end of image\n",
    "    for i in range(len(img)):\n",
    "        img[i] = np.append(img[i], num_label)\n",
    "    res = list()\n",
    "    for i in range(400):\n",
    "        res.append(img[i])\n",
    "    return res\n",
    "\n",
    "\n",
    "def test_set(num_label): \n",
    "    img = [train_data[key] for (key, label) in enumerate(train_labels) if int(label) == num_label]\n",
    "    for i in range(len(img)):\n",
    "        img[i] = np.append(img[i], num_label)\n",
    "    res = list()\n",
    "    for i in range(400, 500):\n",
    "        res.append(img[i])\n",
    "    return res\n",
    "\n",
    "\n",
    "for i in range(10):\n",
    "    test_dataset += test_set(i)\n",
    "    training_dataset += train_set(i)\n",
    "\n",
    "random.shuffle(training_dataset)        \n",
    "random.shuffle(test_dataset)\n",
    "\n",
    "def create_dataset(name, dataset):\n",
    "    currentFile = open('../assets/' + name + '.txt', 'w')\n",
    "    data = \"\"\n",
    "    for i in range(len(dataset)):\n",
    "        for j in range(len(dataset[i])):\n",
    "            temp_data = str(dataset[i][j])\n",
    "            data += temp_data + \"\\t\"\n",
    "        data += \"\\n\"\n",
    "    currentFile.write(data)\n",
    "    currentFile.close()    "
   ]
  },
  {
   "cell_type": "code",
   "execution_count": 6,
   "metadata": {},
   "outputs": [],
   "source": [
    "create_dataset('test_dataset', test_dataset)\n",
    "create_dataset('training_dataset', training_dataset)"
   ]
  }
 ],
 "metadata": {
  "kernelspec": {
   "display_name": "Python 3.11.0 ('env': venv)",
   "language": "python",
   "name": "python3"
  },
  "language_info": {
   "codemirror_mode": {
    "name": "ipython",
    "version": 3
   },
   "file_extension": ".py",
   "mimetype": "text/x-python",
   "name": "python",
   "nbconvert_exporter": "python",
   "pygments_lexer": "ipython3",
   "version": "3.11.0"
  },
  "orig_nbformat": 4,
  "vscode": {
   "interpreter": {
    "hash": "e79c9b4dc955595e7f11f70f4f1c2000e30fde47a19708ab60dcdade70e6665e"
   }
  }
 },
 "nbformat": 4,
 "nbformat_minor": 2
}
