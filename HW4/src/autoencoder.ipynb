{
 "cells": [
  {
   "cell_type": "code",
   "execution_count": 1,
   "metadata": {},
   "outputs": [],
   "source": [
    "import warnings\n",
    "import random\n",
    "import numpy as np\n",
    "import pandas as pd\n",
    "import seaborn as sns\n",
    "import matplotlib.pyplot as plt\n",
    "from collections import OrderedDict"
   ]
  },
  {
   "cell_type": "code",
   "execution_count": 2,
   "metadata": {},
   "outputs": [],
   "source": [
    "train_ds = np.loadtxt('../assets/train_dataset0-4.txt', dtype=float)\n",
    "test_ds = np.loadtxt('../assets/test_dataset5-9.txt', dtype=float)"
   ]
  },
  {
   "cell_type": "code",
   "execution_count": 3,
   "metadata": {},
   "outputs": [],
   "source": [
    "def data_extract(train_data):\n",
    "    data_list = list()\n",
    "    label_list = list()\n",
    "    for val in train_data:\n",
    "        data_list.append(val[0:784])\n",
    "        label_list.append(int(val[784]))\n",
    "    data_list = np.array(data_list)\n",
    "    label_list = np.array(label_list)\n",
    "    return data_list, label_list\n",
    "\n",
    "np.random.shuffle(train_ds)\n",
    "\n",
    "x_train, y_train = data_extract(train_ds)\n",
    "x_test, y_test = data_extract(test_ds)\n",
    "# x_train = x_train / 255"
   ]
  },
  {
   "cell_type": "code",
   "execution_count": 4,
   "metadata": {},
   "outputs": [
    {
     "data": {
      "text/plain": [
       "array([4, 1, 3, ..., 0, 1, 1])"
      ]
     },
     "execution_count": 4,
     "metadata": {},
     "output_type": "execute_result"
    }
   ],
   "source": [
    "y_train"
   ]
  },
  {
   "cell_type": "code",
   "execution_count": 5,
   "metadata": {},
   "outputs": [],
   "source": [
    "warnings.filterwarnings('ignore')\n",
    "EPOCHS = 1000\n",
    "hidden_neurons = 180"
   ]
  },
  {
   "cell_type": "code",
   "execution_count": 6,
   "metadata": {},
   "outputs": [],
   "source": [
    "class NeuralNetwork():\n",
    "    \n",
    "    def __init__(self, input_nn: int, output_nn: int, hidden_nn: list, hidden_layers: int, learning_rate=0.01, alpha=0.5, epochs=EPOCHS, high=0.75, low=0.25):\n",
    "        self.input_nn = input_nn\n",
    "        self.output_nn = output_nn\n",
    "        self.hidden_nn = hidden_nn\n",
    "        self.hidden_layers = hidden_layers\n",
    "        self.learning_rate = learning_rate\n",
    "        self.alpha = alpha\n",
    "        self.epochs = epochs\n",
    "        self.high = high\n",
    "        self.low = low\n",
    "        self.b = 1\n",
    "        self.y_hat = OrderedDict()\n",
    "        self.w1 = np.random.randn(self.hidden_nn[0], self.input_nn) * np.sqrt(1 / (self.input_nn + self.hidden_nn[0]))\n",
    "        if hidden_layers < 2:\n",
    "            self.w2 = np.random.randn(self.output_nn, self.hidden_nn[0]) * np.sqrt(1 / (self.output_nn + self.hidden_nn[0]))\n",
    "        else:\n",
    "            self.w_dict = dict()\n",
    "            for i in range(self.hidden_layers):\n",
    "                temp = 'w' + str(i + 2)\n",
    "                if self.hidden_layers - i == 1:\n",
    "                    self.w_dict[temp] = np.random.rand(self.output_nn, self.hidden_nn[i]) * np.sqrt(1 / (self.output_nn + self.hidden_nn[i]))\n",
    "                    break\n",
    "                self.w_dict[temp] = np.random.rand(self.hidden_nn[i + 1], self.hidden_nn[i]) * np.sqrt(1 / (self.hidden_nn[i + 1] + self.hidden_nn[i]))\n",
    "    \n",
    "        \n",
    "    def get_weight(self):\n",
    "        if self.hidden_layers >= 2:\n",
    "            return self.w1, self.w_dict\n",
    "        return self.w1, self.w2\n",
    "    \n",
    "    \n",
    "    def sigmoid(self, x): \n",
    "        return 1.0/(1.0 + np.exp(-x))\n",
    "\n",
    "\n",
    "    def deri_sigmoid(self, x):\n",
    "        return self.sigmoid(x) * (1 - self.sigmoid(x))\n",
    "\n",
    "    \n",
    "    def forward_prop(self, input_ds):\n",
    "        self.s1 = np.dot(input_ds, self.w1.T) + self.b\n",
    "        self.y_hat1 = self.sigmoid(self.s1)\n",
    "        if self.hidden_layers < 2:\n",
    "            self.s2 = np.dot(self.y_hat1, self.w2.T) + self.b # net input \n",
    "            self.y_hat2 = self.sigmoid(self.s2) # activation function for the output layer.\n",
    "        else:\n",
    "            self.s2 = np.dot(self.y_hat1, self.w_dict['w2'].T) + self.b # net input \n",
    "            self.y_hat['y_hat2'] = self.sigmoid(self.s2)\n",
    "            for i in range(1, self.hidden_layers):\n",
    "                temp_y = 'y_hat' + str(i + 1)\n",
    "                temp_w = 'w' + str(i + 2)\n",
    "                s = np.dot(self.y_hat[temp_y], self.w_dict[temp_w].T) + self.b\n",
    "                temp_y = 'y_hat' + str(i + 2)\n",
    "                self.y_hat[temp_y] = self.sigmoid(s)\n",
    "                \n",
    "\n",
    "    def get_output(self):\n",
    "        if self.hidden_layers < 2:\n",
    "            return self.y_hat2\n",
    "        else:\n",
    "            self.y_hat_val = list(self.y_hat.items())\n",
    "            self.y_hat_value = np.array(list(self.y_hat_val[len(self.y_hat_val) - 1]))\n",
    "            return np.asarray(self.y_hat_value[1])            \n",
    "        \n",
    "        \n",
    "    def backward_prop(self, x, epochs):\n",
    "          \n",
    "        if self.hidden_layers < 2:\n",
    "            self.theta(self.y_hat2)\n",
    "            self.output_errors = x - self.y_hat2\n",
    "            \n",
    "            self.d_output = self.output_errors * self.deri_sigmoid(self.y_hat2)\n",
    "            # print(self.d_output.shape)\n",
    "            # print(self.w2.shape)\n",
    "            # print(self.y_hat1.shape)\n",
    "            # temp = np.dot(self.d_output, self.w2)\n",
    "            # print(temp.shape)\n",
    "            self.d_hidden = self.deri_sigmoid(self.y_hat1) * np.dot(self.d_output, self.w2)\n",
    "            # print(self.y_hat1.shape)\n",
    "            delta_w_2 = self.learning_rate * np.dot(np.transpose(self.y_hat1), self.d_output)             \n",
    "            delta_w_1 = self.learning_rate * np.dot(np.transpose(x), self.d_hidden)\n",
    "\n",
    "            \n",
    "            if (epochs > 1): \n",
    "                delta_w_2 += (self.alpha * self.pre_delta_w_2) \n",
    "                delta_w_1 += (self.alpha * self.pre_delta_w_1)\n",
    "                self.w2 += delta_w_2.T \n",
    "                self.w1 += delta_w_1.T \n",
    "            \n",
    "            self.pre_delta_w_2 = delta_w_2 # update of weights change\n",
    "            self.pre_delta_w_1 = delta_w_1 # update of weights change\n",
    "        \n",
    "        else:\n",
    "            w_key = ['w' + str(i + 2) for i in range(self.hidden_layers)]\n",
    "            self.y_hat_val = list(self.y_hat.items())\n",
    "            self.y_hat_value = np.array(list(self.y_hat_val[len(self.y_hat_val) - 1]))\n",
    "            self.y_hat_val = np.array(list(self.y_hat_val))            \n",
    "            self.theta(self.y_hat_value[1])            \n",
    "            self.output_errors = x - self.y_hat_value[1]\n",
    "            index = len(self.y_hat_val) - 1\n",
    "            \n",
    "            while (index >= 0):\n",
    "                self.d_output = self.output_errors * self.deri_sigmoid(self.y_hat_val[index][1])\n",
    "                self.d_hidden = self.deri_sigmoid(self.y_hat_val[index - 1][1]) * np.dot(self.d_output, self.w_dict[w_key[index]])\n",
    "\n",
    "                delta_w_2 = self.learning_rate * np.dot(np.transpose(self.y_hat_val[index - 1][1]), self.d_output)\n",
    "                delta_w_1 = self.learning_rate * np.dot(np.transpose(x), self.d_hidden) \n",
    "\n",
    "                if(epochs > 1):\n",
    "                    delta_w_2 += (self.alpha * self.pre_delta_w_2)\n",
    "                    delta_w_1 += (self.alpha * self.pre_delta_w_1)\n",
    "                    self.w_dict[index] += delta_w_2.T \n",
    "                    self.w_dict[index] += delta_w_1.T \n",
    "                \n",
    "                self.pre_delta_w_2 = delta_w_2 # update of weights change\n",
    "                self.pre_delta_w_1 = delta_w_1 # update of weights change\n",
    "                index -= 1\n",
    "                self.theta(self.y_hat_val[index-1][1])               \n",
    "                self.output_errors = self.y_hat_val[index][1] - self.y_hat_val[index-1][1]\n",
    "        \n",
    "        \n",
    "    def theta(self, y_hat): # theta for output\n",
    "        for q in y_hat:\n",
    "            for idx, j in enumerate(q):\n",
    "                if j >= self.high:\n",
    "                    q[idx] = 1.0\n",
    "                elif j <= self.low:\n",
    "                    q[idx] = 0.0"
   ]
  },
  {
   "cell_type": "code",
   "execution_count": 7,
   "metadata": {},
   "outputs": [],
   "source": [
    "def error_loss(y, yhat):\n",
    "    ERRORS = 0\n",
    "    for idx, x in enumerate(y):\n",
    "        ERRORS += (0.5 * np.sum(((x - yhat[idx])**2)))\n",
    "    return ERRORS / 784"
   ]
  },
  {
   "cell_type": "code",
   "execution_count": 8,
   "metadata": {},
   "outputs": [],
   "source": [
    "nn = NeuralNetwork(784, 784, [hidden_neurons], 1)\n",
    "nn.forward_prop(x_train)\n",
    "training_errors = list()"
   ]
  },
  {
   "cell_type": "code",
   "execution_count": 9,
   "metadata": {},
   "outputs": [
    {
     "data": {
      "text/plain": [
       "(2000, 784)"
      ]
     },
     "execution_count": 9,
     "metadata": {},
     "output_type": "execute_result"
    }
   ],
   "source": [
    "nn.get_output().shape"
   ]
  },
  {
   "cell_type": "code",
   "execution_count": 10,
   "metadata": {},
   "outputs": [
    {
     "name": "stdout",
     "output_type": "stream",
     "text": [
      "Iteration 0:\n",
      "Error fraction: 461.31434260437965\n",
      "Iteration 10:\n",
      "Error fraction: 146.83897737752224\n",
      "Iteration 20:\n",
      "Error fraction: 136.27810517596305\n",
      "Iteration 30:\n",
      "Error fraction: 236.39283931762716\n",
      "Iteration 40:\n",
      "Error fraction: 187.7711675114127\n",
      "Iteration 50:\n",
      "Error fraction: 94.86794027603662\n",
      "Iteration 60:\n",
      "Error fraction: 64.24979166209607\n",
      "Iteration 70:\n",
      "Error fraction: 62.28603487867198\n",
      "Iteration 80:\n",
      "Error fraction: 46.55383203529087\n",
      "Iteration 90:\n",
      "Error fraction: 44.00896355186093\n",
      "Iteration 100:\n",
      "Error fraction: 40.98900376040777\n",
      "Iteration 110:\n",
      "Error fraction: 37.63980033580508\n",
      "Iteration 120:\n",
      "Error fraction: 36.90181606569177\n",
      "Iteration 130:\n",
      "Error fraction: 36.52409131023576\n",
      "Iteration 140:\n",
      "Error fraction: 36.33998786352348\n",
      "Iteration 150:\n",
      "Error fraction: 36.14325501384456\n",
      "Iteration 160:\n",
      "Error fraction: 36.81849243050823\n",
      "Iteration 170:\n",
      "Error fraction: 36.41554522672097\n",
      "Iteration 180:\n",
      "Error fraction: 36.04821460319897\n",
      "Iteration 190:\n",
      "Error fraction: 34.605089098823846\n",
      "Iteration 200:\n",
      "Error fraction: 34.598137581833214\n",
      "Iteration 210:\n",
      "Error fraction: 33.59066367793899\n",
      "Iteration 220:\n",
      "Error fraction: 32.50130500520697\n",
      "Iteration 230:\n",
      "Error fraction: 32.270569760451245\n",
      "Iteration 240:\n",
      "Error fraction: 31.638611053804915\n",
      "Iteration 250:\n",
      "Error fraction: 30.87333948122775\n",
      "Iteration 260:\n",
      "Error fraction: 30.693962531463455\n",
      "Iteration 270:\n",
      "Error fraction: 29.910923082304745\n",
      "Iteration 280:\n",
      "Error fraction: 30.138369980353552\n",
      "Iteration 290:\n",
      "Error fraction: 29.135441689953357\n",
      "Iteration 300:\n",
      "Error fraction: 29.531916201580874\n",
      "Iteration 310:\n",
      "Error fraction: 29.046670962697277\n",
      "Iteration 320:\n",
      "Error fraction: 28.842623941010096\n",
      "Iteration 330:\n",
      "Error fraction: 28.21858586809387\n",
      "Iteration 340:\n",
      "Error fraction: 28.459483017376364\n",
      "Iteration 350:\n",
      "Error fraction: 28.10482661998046\n",
      "Iteration 360:\n",
      "Error fraction: 28.137195054829725\n",
      "Iteration 370:\n",
      "Error fraction: 28.15296441985374\n",
      "Iteration 380:\n",
      "Error fraction: 27.815663742509667\n",
      "Iteration 390:\n",
      "Error fraction: 27.74020947491934\n",
      "Iteration 400:\n",
      "Error fraction: 27.590354997949532\n",
      "Iteration 410:\n",
      "Error fraction: 27.396804449931793\n",
      "Iteration 420:\n",
      "Error fraction: 27.495537543770727\n",
      "Iteration 430:\n",
      "Error fraction: 27.324991162182826\n",
      "Iteration 440:\n",
      "Error fraction: 27.32916988984045\n",
      "Iteration 450:\n",
      "Error fraction: 26.92208741625139\n",
      "Iteration 460:\n",
      "Error fraction: 26.900542775316282\n",
      "Iteration 470:\n",
      "Error fraction: 26.65580401131438\n",
      "Iteration 480:\n",
      "Error fraction: 26.566369042032573\n",
      "Iteration 490:\n",
      "Error fraction: 26.074119009131113\n",
      "Iteration 500:\n",
      "Error fraction: 26.139089724932745\n",
      "Iteration 510:\n",
      "Error fraction: 26.09627388783057\n",
      "Iteration 520:\n",
      "Error fraction: 25.96521191536034\n",
      "Iteration 530:\n",
      "Error fraction: 26.316332668724094\n",
      "Iteration 540:\n",
      "Error fraction: 26.11585202702928\n",
      "Iteration 550:\n",
      "Error fraction: 26.216597812931063\n",
      "Iteration 560:\n",
      "Error fraction: 26.069041553623617\n",
      "Iteration 570:\n",
      "Error fraction: 25.615337392328005\n",
      "Iteration 580:\n",
      "Error fraction: 25.947490569634418\n",
      "Iteration 590:\n",
      "Error fraction: 25.521823223513174\n",
      "Iteration 600:\n",
      "Error fraction: 25.2297180630521\n",
      "Iteration 610:\n",
      "Error fraction: 25.580864976479614\n",
      "Iteration 620:\n",
      "Error fraction: 25.349684731695238\n",
      "Iteration 630:\n",
      "Error fraction: 25.098459516325825\n",
      "Iteration 640:\n",
      "Error fraction: 24.96771209731244\n",
      "Iteration 650:\n",
      "Error fraction: 24.52905124179808\n",
      "Iteration 660:\n",
      "Error fraction: 24.666583540797397\n",
      "Iteration 670:\n",
      "Error fraction: 24.7827602334675\n",
      "Iteration 680:\n",
      "Error fraction: 24.517429408076946\n",
      "Iteration 690:\n",
      "Error fraction: 24.46458924149507\n",
      "Iteration 700:\n",
      "Error fraction: 24.4050097360132\n",
      "Iteration 710:\n",
      "Error fraction: 24.554809201422042\n",
      "Iteration 720:\n",
      "Error fraction: 24.320071960468365\n",
      "Iteration 730:\n",
      "Error fraction: 24.096544193998398\n",
      "Iteration 740:\n",
      "Error fraction: 24.601251508893668\n",
      "Iteration 750:\n",
      "Error fraction: 23.899796377105545\n",
      "Iteration 760:\n",
      "Error fraction: 24.009965256981378\n",
      "Iteration 770:\n",
      "Error fraction: 23.977364873460946\n",
      "Iteration 780:\n",
      "Error fraction: 24.05429866872639\n",
      "Iteration 790:\n",
      "Error fraction: 24.164399250659436\n",
      "Iteration 800:\n",
      "Error fraction: 23.68851034523224\n",
      "Iteration 810:\n",
      "Error fraction: 23.671623653538894\n",
      "Iteration 820:\n",
      "Error fraction: 23.760880956451334\n",
      "Iteration 830:\n",
      "Error fraction: 23.372779775021478\n",
      "Iteration 840:\n",
      "Error fraction: 23.7076239309617\n",
      "Iteration 850:\n",
      "Error fraction: 23.736409693075984\n",
      "Iteration 860:\n",
      "Error fraction: 23.577861347973535\n",
      "Iteration 870:\n",
      "Error fraction: 23.50588130418086\n",
      "Iteration 880:\n",
      "Error fraction: 23.521143766992367\n",
      "Iteration 890:\n",
      "Error fraction: 23.60819369619739\n",
      "Iteration 900:\n",
      "Error fraction: 23.273856588423737\n",
      "Iteration 910:\n",
      "Error fraction: 23.200157195682948\n",
      "Iteration 920:\n",
      "Error fraction: 23.019623176472134\n",
      "Iteration 930:\n",
      "Error fraction: 22.83383360603478\n",
      "Iteration 940:\n",
      "Error fraction: 22.683332334625778\n",
      "Iteration 950:\n",
      "Error fraction: 22.906206862608865\n",
      "Iteration 960:\n",
      "Error fraction: 23.167790397278367\n",
      "Iteration 970:\n",
      "Error fraction: 22.600810008665626\n",
      "Iteration 980:\n",
      "Error fraction: 22.79593344873273\n",
      "Iteration 990:\n",
      "Error fraction: 22.72696283674113\n",
      "Iteration 1000:\n",
      "Error fraction: 22.319278140413452\n"
     ]
    }
   ],
   "source": [
    "for i in range(EPOCHS + 1):\n",
    "    nn.forward_prop(x_train)\n",
    "    if i % 10 == 0:\n",
    "        print(f'Iteration {i}:')\n",
    "        temp_output = error_loss(x_train, nn.get_output())\n",
    "        training_errors.append(temp_output)\n",
    "        print(f'Error fraction: {temp_output}')\n",
    "    nn.backward_prop(x_train, i)"
   ]
  },
  {
   "cell_type": "code",
   "execution_count": 19,
   "metadata": {},
   "outputs": [
    {
     "data": {
      "text/plain": [
       "<AxesSubplot: >"
      ]
     },
     "execution_count": 19,
     "metadata": {},
     "output_type": "execute_result"
    },
    {
     "data": {
      "image/png": "[encoded data removed]",
      "text/plain": [
       "<Figure size 500x500 with 1 Axes>"
      ]
     },
     "metadata": {},
     "output_type": "display_data"
    }
   ],
   "source": [
    "fig, ax = plt.subplots(1, 1, figsize=(5,5))\n",
    "sns.heatmap(x_train[1499].reshape(28, 28).T, ax=ax, vmin=0, vmax=1, cmap='winter', xticklabels=False, yticklabels=False, cbar=False)"
   ]
  },
  {
   "cell_type": "code",
   "execution_count": 20,
   "metadata": {},
   "outputs": [
    {
     "data": {
      "text/plain": [
       "<AxesSubplot: >"
      ]
     },
     "execution_count": 20,
     "metadata": {},
     "output_type": "execute_result"
    },
    {
     "data": {
      "image/png": "[encoded data removed]",
      "text/plain": [
       "<Figure size 500x500 with 1 Axes>"
      ]
     },
     "metadata": {},
     "output_type": "display_data"
    }
   ],
   "source": [
    "nn.forward_prop(x_train)\n",
    "fig, ax = plt.subplots(1, 1, figsize=(5,5))\n",
    "sns.heatmap(nn.get_output()[1499].reshape(28, 28).T, ax=ax, vmin=0, vmax=1, cmap='winter', xticklabels=False, yticklabels=False, cbar=False)"
   ]
  },
  {
   "cell_type": "code",
   "execution_count": 21,
   "metadata": {},
   "outputs": [],
   "source": [
    "def get_random_list(limit, num):\n",
    "    random_list = list()\n",
    "    iteration = 0\n",
    "    while iteration < limit:\n",
    "        r = random.randint(0, num - 1)\n",
    "        if r not in random_list:\n",
    "            random_list.append(r)\n",
    "            iteration += 1\n",
    "    return random_list\n",
    "\n",
    "\n",
    "def get_index_digit(digit, data):\n",
    "    index = list()\n",
    "    for i, value in enumerate(data):\n",
    "        if value == digit:\n",
    "            index.append(i)\n",
    "    return index\n",
    "\n",
    "\n",
    "def get_error_digit(y, yhat, digits):\n",
    "    ERRORS = 0\n",
    "    for digit in digits:\n",
    "        ERRORS += (0.5 * np.sum(((y[digit] - yhat[digit])**2)))                      \n",
    "    return ERRORS / 784"
   ]
  },
  {
   "cell_type": "code",
   "execution_count": 22,
   "metadata": {},
   "outputs": [
    {
     "name": "stdout",
     "output_type": "stream",
     "text": [
      "[87, 161, 101, 164, 1, 175, 145, 75]\n"
     ]
    }
   ],
   "source": [
    "random_sample = get_random_list(8, hidden_neurons)\n",
    "print(random_sample)"
   ]
  },
  {
   "cell_type": "code",
   "execution_count": 23,
   "metadata": {},
   "outputs": [
    {
     "data": {
      "image/png": "[encoded data removed]",
      "text/plain": [
       "<Figure size 1500x700 with 16 Axes>"
      ]
     },
     "metadata": {},
     "output_type": "display_data"
    }
   ],
   "source": [
    "nn.forward_prop(x_test)\n",
    "output_test = nn.get_output()\n",
    "fig, ax = plt.subplots(2, 8, figsize=(15, 7))\n",
    "plt.style.use('ggplot')\n",
    "for i in range(len(random_sample)):\n",
    "    ax[0, i].imshow(x_test[random_sample[i]].reshape(28, 28), cmap='winter')\n",
    "    ax[1, i].imshow(output_test[random_sample[i]].reshape(28, 28), cmap='winter')\n",
    "    ax[0, i].set_xticks([])\n",
    "    ax[0, i].set_yticks([])\n",
    "    ax[1, i].set_xticks([])\n",
    "    ax[1, i].set_yticks([])\n",
    "   \n",
    "fig.tight_layout()\n",
    "fig.savefig('../assets/sample_output.png')"
   ]
  }
 ],
 "metadata": {
  "kernelspec": {
   "display_name": "Python 3.11.0 ('env': venv)",
   "language": "python",
   "name": "python3"
  },
  "language_info": {
   "codemirror_mode": {
    "name": "ipython",
    "version": 3
   },
   "file_extension": ".py",
   "mimetype": "text/x-python",
   "name": "python",
   "nbconvert_exporter": "python",
   "pygments_lexer": "ipython3",
   "version": "3.11.0"
  },
  "orig_nbformat": 4,
  "vscode": {
   "interpreter": {
    "hash": "e79c9b4dc955595e7f11f70f4f1c2000e30fde47a19708ab60dcdade70e6665e"
   }
  }
 },
 "nbformat": 4,
 "nbformat_minor": 2
}
