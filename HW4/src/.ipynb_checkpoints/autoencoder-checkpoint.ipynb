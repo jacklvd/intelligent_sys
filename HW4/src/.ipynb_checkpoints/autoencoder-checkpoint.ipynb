{
 "cells": [
  {
   "cell_type": "code",
   "execution_count": 3,
   "metadata": {},
   "outputs": [],
   "source": [
    "import warnings\n",
    "import random\n",
    "import numpy as np\n",
    "import pandas as pd\n",
    "import seaborn as sns\n",
    "import matplotlib.pyplot as plt\n",
    "from collections import OrderedDict"
   ]
  },
  {
   "cell_type": "code",
   "execution_count": 4,
   "metadata": {},
   "outputs": [],
   "source": [
    "train_ds_1 = np.loadtxt('../assets/train_dataset0-4.txt', dtype=float)\n",
    "train_ds_2 = np.loadtxt('../assets/train_dataset5-9.txt', dtype=float)\n",
    "test_ds_1 = np.loadtxt('../assets/test_dataset0-4.txt', dtype=float)\n",
    "test_ds_2 = np.loadtxt('../assets/test_dataset5-9.txt', dtype=float)"
   ]
  },
  {
   "cell_type": "code",
   "execution_count": 5,
   "metadata": {},
   "outputs": [],
   "source": [
    "def data_extract(train_data):\n",
    "    data_list = list()\n",
    "    label_list = list()\n",
    "    for val in train_data:\n",
    "        data_list.append(val[0:784])\n",
    "        label_list.append(int(val[784]))\n",
    "    data_list = np.array(data_list)\n",
    "    label_list = np.array(label_list)\n",
    "    return data_list, label_list\n",
    "\n",
    "np.random.shuffle(train_ds_1)\n",
    "\n",
    "x_train_1, y_train_1 = data_extract(train_ds_1)\n",
    "x_train_2, y_train_2 = data_extract(train_ds_2)\n",
    "\n",
    "x_test_1, y_test_1 = data_extract(test_ds_1)\n",
    "x_test_2, y_test_2 = data_extract(test_ds_2)\n",
    "# x_train = x_train / 255"
   ]
  },
  {
   "cell_type": "code",
   "execution_count": 6,
   "metadata": {},
   "outputs": [
    {
     "data": {
      "text/plain": [
       "array([5, 5, 5, ..., 9, 9, 9])"
      ]
     },
     "execution_count": 6,
     "metadata": {},
     "output_type": "execute_result"
    }
   ],
   "source": [
    "y_train_2"
   ]
  },
  {
   "cell_type": "code",
   "execution_count": 7,
   "metadata": {},
   "outputs": [],
   "source": [
    "warnings.filterwarnings('ignore')\n",
    "EPOCHS = 1000\n",
    "hidden_neurons = 180"
   ]
  },
  {
   "cell_type": "code",
   "execution_count": 8,
   "metadata": {},
   "outputs": [],
   "source": [
    "class NeuralNetwork():\n",
    "    \n",
    "    def __init__(self, input_nn: int, output_nn: int, hidden_nn: list, hidden_layers: int, learning_rate=0.01, alpha=0.5, epochs=EPOCHS, high=0.75, low=0.25):\n",
    "        self.input_nn = input_nn\n",
    "        self.output_nn = output_nn\n",
    "        self.hidden_nn = hidden_nn\n",
    "        self.hidden_layers = hidden_layers\n",
    "        self.learning_rate = learning_rate\n",
    "        self.alpha = alpha\n",
    "        self.epochs = epochs\n",
    "        self.high = high\n",
    "        self.low = low\n",
    "        self.b = 1\n",
    "        self.y_hat = OrderedDict()\n",
    "        self.w1 = np.random.randn(self.hidden_nn[0], self.input_nn) * np.sqrt(1 / (self.input_nn + self.hidden_nn[0]))\n",
    "        if hidden_layers < 2:\n",
    "            self.w2 = np.random.randn(self.output_nn, self.hidden_nn[0]) * np.sqrt(1 / (self.output_nn + self.hidden_nn[0]))\n",
    "        else:\n",
    "            self.w_dict = dict()\n",
    "            for i in range(self.hidden_layers):\n",
    "                temp = 'w' + str(i + 2)\n",
    "                if self.hidden_layers - i == 1:\n",
    "                    self.w_dict[temp] = np.random.rand(self.output_nn, self.hidden_nn[i]) * np.sqrt(1 / (self.output_nn + self.hidden_nn[i]))\n",
    "                    break\n",
    "                self.w_dict[temp] = np.random.rand(self.hidden_nn[i + 1], self.hidden_nn[i]) * np.sqrt(1 / (self.hidden_nn[i + 1] + self.hidden_nn[i]))\n",
    "    \n",
    "        \n",
    "    def get_weight(self):\n",
    "        if self.hidden_layers >= 2:\n",
    "            return self.w1, self.w_dict\n",
    "        return self.w1, self.w2\n",
    "    \n",
    "    \n",
    "    def sigmoid(self, x): \n",
    "        return 1.0/(1.0 + np.exp(-x))\n",
    "\n",
    "\n",
    "    def deri_sigmoid(self, x):\n",
    "        return self.sigmoid(x) * (1 - self.sigmoid(x))\n",
    "\n",
    "    \n",
    "    def forward_prop(self, input_ds):\n",
    "        self.s1 = np.dot(input_ds, self.w1.T) + self.b\n",
    "        self.y_hat1 = self.sigmoid(self.s1)\n",
    "        if self.hidden_layers < 2:\n",
    "            self.s2 = np.dot(self.y_hat1, self.w2.T) + self.b # net input \n",
    "            self.y_hat2 = self.sigmoid(self.s2) # activation function for the output layer.\n",
    "        else:\n",
    "            self.s2 = np.dot(self.y_hat1, self.w_dict['w2'].T) + self.b # net input \n",
    "            self.y_hat['y_hat2'] = self.sigmoid(self.s2)\n",
    "            for i in range(1, self.hidden_layers):\n",
    "                temp_y = 'y_hat' + str(i + 1)\n",
    "                temp_w = 'w' + str(i + 2)\n",
    "                s = np.dot(self.y_hat[temp_y], self.w_dict[temp_w].T) + self.b\n",
    "                temp_y = 'y_hat' + str(i + 2)\n",
    "                self.y_hat[temp_y] = self.sigmoid(s)\n",
    "                \n",
    "\n",
    "    def get_output(self):\n",
    "        if self.hidden_layers < 2:\n",
    "            return self.y_hat2\n",
    "        else:\n",
    "            self.y_hat_val = list(self.y_hat.items())\n",
    "            self.y_hat_value = np.array(list(self.y_hat_val[len(self.y_hat_val) - 1]))\n",
    "            return np.asarray(self.y_hat_value[1])            \n",
    "        \n",
    "        \n",
    "    def backward_prop(self, x, epochs):\n",
    "          \n",
    "        if self.hidden_layers < 2:\n",
    "            self.theta(self.y_hat2)\n",
    "            self.output_errors = x - self.y_hat2\n",
    "            \n",
    "            self.d_output = self.output_errors * self.deri_sigmoid(self.y_hat2)\n",
    "            # print(self.d_output.shape)\n",
    "            # print(self.w2.shape)\n",
    "            # print(self.y_hat1.shape)\n",
    "            # temp = np.dot(self.d_output, self.w2)\n",
    "            # print(temp.shape)\n",
    "            self.d_hidden = self.deri_sigmoid(self.y_hat1) * np.dot(self.d_output, self.w2)\n",
    "            # print(self.y_hat1.shape)\n",
    "            delta_w_2 = self.learning_rate * np.dot(np.transpose(self.y_hat1), self.d_output)             \n",
    "            delta_w_1 = self.learning_rate * np.dot(np.transpose(x), self.d_hidden)\n",
    "\n",
    "            \n",
    "            if (epochs > 1): \n",
    "                delta_w_2 += (self.alpha * self.pre_delta_w_2) \n",
    "                delta_w_1 += (self.alpha * self.pre_delta_w_1)\n",
    "                self.w2 += delta_w_2.T \n",
    "                self.w1 += delta_w_1.T \n",
    "            \n",
    "            self.pre_delta_w_2 = delta_w_2 # update of weights change\n",
    "            self.pre_delta_w_1 = delta_w_1 # update of weights change\n",
    "        \n",
    "        else:\n",
    "            w_key = ['w' + str(i + 2) for i in range(self.hidden_layers)]\n",
    "            self.y_hat_val = list(self.y_hat.items())\n",
    "            self.y_hat_value = np.array(list(self.y_hat_val[len(self.y_hat_val) - 1]))\n",
    "            self.y_hat_val = np.array(list(self.y_hat_val))            \n",
    "            self.theta(self.y_hat_value[1])            \n",
    "            self.output_errors = x - self.y_hat_value[1]\n",
    "            index = len(self.y_hat_val) - 1\n",
    "            \n",
    "            while (index >= 0):\n",
    "                self.d_output = self.output_errors * self.deri_sigmoid(self.y_hat_val[index][1])\n",
    "                self.d_hidden = self.deri_sigmoid(self.y_hat_val[index - 1][1]) * np.dot(self.d_output, self.w_dict[w_key[index]])\n",
    "\n",
    "                delta_w_2 = self.learning_rate * np.dot(np.transpose(self.y_hat_val[index - 1][1]), self.d_output)\n",
    "                delta_w_1 = self.learning_rate * np.dot(np.transpose(x), self.d_hidden) \n",
    "\n",
    "                if(epochs > 1):\n",
    "                    delta_w_2 += (self.alpha * self.pre_delta_w_2)\n",
    "                    delta_w_1 += (self.alpha * self.pre_delta_w_1)\n",
    "                    self.w_dict[index] += delta_w_2.T \n",
    "                    self.w_dict[index] += delta_w_1.T \n",
    "                \n",
    "                self.pre_delta_w_2 = delta_w_2 # update of weights change\n",
    "                self.pre_delta_w_1 = delta_w_1 # update of weights change\n",
    "                index -= 1\n",
    "                self.theta(self.y_hat_val[index-1][1])               \n",
    "                self.output_errors = self.y_hat_val[index][1] - self.y_hat_val[index-1][1]\n",
    "        \n",
    "        \n",
    "    def theta(self, y_hat): # theta for output\n",
    "        for q in y_hat:\n",
    "            for idx, j in enumerate(q):\n",
    "                if j >= self.high:\n",
    "                    q[idx] = 1.0\n",
    "                elif j <= self.low:\n",
    "                    q[idx] = 0.0"
   ]
  },
  {
   "cell_type": "code",
   "execution_count": 9,
   "metadata": {},
   "outputs": [],
   "source": [
    "def error_loss(y, yhat):\n",
    "    ERRORS = 0\n",
    "    for idx, x in enumerate(y):\n",
    "        ERRORS += (0.5 * np.sum(((x - yhat[idx])**2)))\n",
    "    return ERRORS / 784"
   ]
  },
  {
   "cell_type": "code",
   "execution_count": 10,
   "metadata": {},
   "outputs": [],
   "source": [
    "nn = NeuralNetwork(784, 784, [hidden_neurons], 1)\n",
    "nn.forward_prop(x_train_1)\n",
    "training_errors = list()"
   ]
  },
  {
   "cell_type": "code",
   "execution_count": 11,
   "metadata": {},
   "outputs": [
    {
     "data": {
      "text/plain": [
       "(2000, 784)"
      ]
     },
     "execution_count": 11,
     "metadata": {},
     "output_type": "execute_result"
    }
   ],
   "source": [
    "nn.get_output().shape"
   ]
  },
  {
   "cell_type": "code",
   "execution_count": 12,
   "metadata": {},
   "outputs": [
    {
     "name": "stdout",
     "output_type": "stream",
     "text": [
      "Iteration 0:\n",
      "Error fraction: 460.3410936959427\n",
      "Iteration 10:\n",
      "Error fraction: 143.24809026601423\n",
      "Iteration 20:\n",
      "Error fraction: 126.41538664914216\n",
      "Iteration 30:\n",
      "Error fraction: 151.2140087768474\n",
      "Iteration 40:\n",
      "Error fraction: 144.42727518873662\n",
      "Iteration 50:\n",
      "Error fraction: 92.37235419632701\n",
      "Iteration 60:\n",
      "Error fraction: 68.33865627883492\n",
      "Iteration 70:\n",
      "Error fraction: 59.32289391503657\n",
      "Iteration 80:\n",
      "Error fraction: 53.487677537563236\n",
      "Iteration 90:\n",
      "Error fraction: 50.71766984472224\n",
      "Iteration 100:\n",
      "Error fraction: 45.39917806504022\n",
      "Iteration 110:\n",
      "Error fraction: 44.25572508224217\n",
      "Iteration 120:\n",
      "Error fraction: 43.55725183038658\n",
      "Iteration 130:\n",
      "Error fraction: 40.690754229088185\n",
      "Iteration 140:\n",
      "Error fraction: 38.223744440569405\n",
      "Iteration 150:\n",
      "Error fraction: 35.98742330073602\n",
      "Iteration 160:\n",
      "Error fraction: 34.26975769564704\n",
      "Iteration 170:\n",
      "Error fraction: 34.10971207408516\n",
      "Iteration 180:\n",
      "Error fraction: 33.80785830872019\n",
      "Iteration 190:\n",
      "Error fraction: 33.722406154062604\n",
      "Iteration 200:\n",
      "Error fraction: 33.48224097256349\n",
      "Iteration 210:\n",
      "Error fraction: 33.197936981865446\n",
      "Iteration 220:\n",
      "Error fraction: 32.91028875907921\n",
      "Iteration 230:\n",
      "Error fraction: 32.676599075909984\n",
      "Iteration 240:\n",
      "Error fraction: 32.210345098437074\n",
      "Iteration 250:\n",
      "Error fraction: 32.0038082741775\n",
      "Iteration 260:\n",
      "Error fraction: 31.56075720785478\n",
      "Iteration 270:\n",
      "Error fraction: 31.124490203235005\n",
      "Iteration 280:\n",
      "Error fraction: 30.855462857740097\n",
      "Iteration 290:\n",
      "Error fraction: 30.51125607451666\n",
      "Iteration 300:\n",
      "Error fraction: 30.19183092805593\n",
      "Iteration 310:\n",
      "Error fraction: 29.967304844357685\n",
      "Iteration 320:\n",
      "Error fraction: 29.583314068962363\n",
      "Iteration 330:\n",
      "Error fraction: 29.32563890717193\n",
      "Iteration 340:\n",
      "Error fraction: 29.080995246484747\n",
      "Iteration 350:\n",
      "Error fraction: 28.74858361422803\n",
      "Iteration 360:\n",
      "Error fraction: 28.551854023505662\n",
      "Iteration 370:\n",
      "Error fraction: 28.348786158501515\n",
      "Iteration 380:\n",
      "Error fraction: 28.115298119235486\n",
      "Iteration 390:\n",
      "Error fraction: 27.863540437021452\n",
      "Iteration 400:\n",
      "Error fraction: 27.784926197983975\n",
      "Iteration 410:\n",
      "Error fraction: 27.509188031756832\n",
      "Iteration 420:\n",
      "Error fraction: 27.394932054943286\n",
      "Iteration 430:\n",
      "Error fraction: 27.25496656331513\n",
      "Iteration 440:\n",
      "Error fraction: 27.106346087826495\n",
      "Iteration 450:\n",
      "Error fraction: 27.040670542097875\n",
      "Iteration 460:\n",
      "Error fraction: 26.943520860062765\n",
      "Iteration 470:\n",
      "Error fraction: 26.811148672032758\n",
      "Iteration 480:\n",
      "Error fraction: 26.77592185640183\n",
      "Iteration 490:\n",
      "Error fraction: 26.671045029633145\n",
      "Iteration 500:\n",
      "Error fraction: 26.516998817532038\n",
      "Iteration 510:\n",
      "Error fraction: 26.48469451589937\n",
      "Iteration 520:\n",
      "Error fraction: 26.39368309592895\n",
      "Iteration 530:\n",
      "Error fraction: 26.333466518868132\n",
      "Iteration 540:\n",
      "Error fraction: 26.212500904755345\n",
      "Iteration 550:\n",
      "Error fraction: 26.14282695696256\n",
      "Iteration 560:\n",
      "Error fraction: 26.125453846427828\n",
      "Iteration 570:\n",
      "Error fraction: 26.111728456312207\n",
      "Iteration 580:\n",
      "Error fraction: 26.062663352522712\n",
      "Iteration 590:\n",
      "Error fraction: 26.025789614898034\n",
      "Iteration 600:\n",
      "Error fraction: 25.935055195391886\n",
      "Iteration 610:\n",
      "Error fraction: 26.010616537276555\n",
      "Iteration 620:\n",
      "Error fraction: 25.96416270598305\n",
      "Iteration 630:\n",
      "Error fraction: 25.849861393084524\n",
      "Iteration 640:\n",
      "Error fraction: 25.773659954993462\n",
      "Iteration 650:\n",
      "Error fraction: 25.711711056279768\n",
      "Iteration 660:\n",
      "Error fraction: 25.568725788195373\n",
      "Iteration 670:\n",
      "Error fraction: 25.55683551239354\n",
      "Iteration 680:\n",
      "Error fraction: 25.41717141039376\n",
      "Iteration 690:\n",
      "Error fraction: 25.323648478683847\n",
      "Iteration 700:\n",
      "Error fraction: 25.365719321689195\n",
      "Iteration 710:\n",
      "Error fraction: 25.163887653929507\n",
      "Iteration 720:\n",
      "Error fraction: 25.17746362575026\n",
      "Iteration 730:\n",
      "Error fraction: 25.025561271622756\n",
      "Iteration 740:\n",
      "Error fraction: 25.02285710361719\n",
      "Iteration 750:\n",
      "Error fraction: 24.773833521222166\n",
      "Iteration 760:\n",
      "Error fraction: 24.764736346495372\n",
      "Iteration 770:\n",
      "Error fraction: 24.646323293724926\n",
      "Iteration 780:\n",
      "Error fraction: 24.568060714704753\n",
      "Iteration 790:\n",
      "Error fraction: 24.511003197898198\n",
      "Iteration 800:\n",
      "Error fraction: 24.465477643522128\n",
      "Iteration 810:\n",
      "Error fraction: 24.339286899891885\n",
      "Iteration 820:\n",
      "Error fraction: 24.304671071524474\n",
      "Iteration 830:\n",
      "Error fraction: 24.29796447680857\n",
      "Iteration 840:\n",
      "Error fraction: 24.271511320127413\n",
      "Iteration 850:\n",
      "Error fraction: 24.2025307266917\n",
      "Iteration 860:\n",
      "Error fraction: 24.12054809071735\n",
      "Iteration 870:\n",
      "Error fraction: 24.064035251304208\n",
      "Iteration 880:\n",
      "Error fraction: 23.999458039278835\n",
      "Iteration 890:\n",
      "Error fraction: 23.90824742120156\n",
      "Iteration 900:\n",
      "Error fraction: 23.92441258400947\n",
      "Iteration 910:\n",
      "Error fraction: 23.9185771103508\n",
      "Iteration 920:\n",
      "Error fraction: 23.945568306412802\n",
      "Iteration 930:\n",
      "Error fraction: 23.90294168652983\n",
      "Iteration 940:\n",
      "Error fraction: 23.847495001630936\n",
      "Iteration 950:\n",
      "Error fraction: 23.9028335030003\n",
      "Iteration 960:\n",
      "Error fraction: 23.924820386158277\n",
      "Iteration 970:\n",
      "Error fraction: 23.837988361302862\n",
      "Iteration 980:\n",
      "Error fraction: 23.86137106504302\n",
      "Iteration 990:\n",
      "Error fraction: 23.769162375730378\n",
      "Iteration 1000:\n",
      "Error fraction: 23.728452912838094\n"
     ]
    }
   ],
   "source": [
    "for i in range(EPOCHS + 1):\n",
    "    nn.forward_prop(x_train_1)\n",
    "    if i % 10 == 0:\n",
    "        print(f'Iteration {i}:')\n",
    "        temp_output = error_loss(x_train_1, nn.get_output())\n",
    "        training_errors.append(temp_output)\n",
    "        print(f'Error fraction: {temp_output}')\n",
    "    nn.backward_prop(x_train_1, i)"
   ]
  },
  {
   "cell_type": "code",
   "execution_count": 13,
   "metadata": {},
   "outputs": [
    {
     "data": {
      "text/plain": [
       "<AxesSubplot: >"
      ]
     },
     "execution_count": 13,
     "metadata": {},
     "output_type": "execute_result"
    },
    {
     "data": {
      "image/png": "[encoded data removed]",
      "text/plain": [
       "<Figure size 500x500 with 1 Axes>"
      ]
     },
     "metadata": {},
     "output_type": "display_data"
    }
   ],
   "source": [
    "fig, ax = plt.subplots(1, 1, figsize=(5,5))\n",
    "sns.heatmap(x_train_1[1499].reshape(28, 28).T, ax=ax, vmin=0, vmax=1, cmap='winter', xticklabels=False, yticklabels=False, cbar=False)"
   ]
  },
  {
   "cell_type": "code",
   "execution_count": 14,
   "metadata": {},
   "outputs": [
    {
     "data": {
      "text/plain": [
       "<AxesSubplot: >"
      ]
     },
     "execution_count": 14,
     "metadata": {},
     "output_type": "execute_result"
    },
    {
     "data": {
      "image/png": "[encoded data removed]",
      "text/plain": [
       "<Figure size 500x500 with 1 Axes>"
      ]
     },
     "metadata": {},
     "output_type": "display_data"
    }
   ],
   "source": [
    "nn.forward_prop(x_train_1)\n",
    "fig, ax = plt.subplots(1, 1, figsize=(5,5))\n",
    "sns.heatmap(nn.get_output()[1499].reshape(28, 28).T, ax=ax, vmin=0, vmax=1, cmap='winter', xticklabels=False, yticklabels=False, cbar=False)"
   ]
  },
  {
   "cell_type": "markdown",
   "metadata": {},
   "source": [
    "# Sample Output"
   ]
  },
  {
   "cell_type": "code",
   "execution_count": 15,
   "metadata": {},
   "outputs": [],
   "source": [
    "def get_random_list(limit, num):\n",
    "    random_list = list()\n",
    "    iteration = 0\n",
    "    while iteration < limit:\n",
    "        r = random.randint(0, num - 1)\n",
    "        if r not in random_list:\n",
    "            random_list.append(r)\n",
    "            iteration += 1\n",
    "    return random_list\n",
    "\n",
    "\n",
    "def get_index_digit(digit, data):\n",
    "    index = list()\n",
    "    for i, value in enumerate(data):\n",
    "        if value == digit:\n",
    "            index.append(i)\n",
    "    return index\n",
    "\n",
    "\n",
    "def get_error_digit(y, yhat, digits):\n",
    "    ERRORS = 0\n",
    "    for digit in digits:\n",
    "        ERRORS += (0.5 * np.sum(((y[digit] - yhat[digit])**2)))                      \n",
    "    return ERRORS / 784"
   ]
  },
  {
   "cell_type": "code",
   "execution_count": 16,
   "metadata": {},
   "outputs": [
    {
     "name": "stdout",
     "output_type": "stream",
     "text": [
      "[8, 131, 31, 91, 101, 117, 89, 50]\n"
     ]
    }
   ],
   "source": [
    "random_sample = get_random_list(8, hidden_neurons)\n",
    "print(random_sample)"
   ]
  },
  {
   "cell_type": "code",
   "execution_count": 17,
   "metadata": {},
   "outputs": [
    {
     "data": {
      "image/png": "[encoded data removed]",
      "text/plain": [
       "<Figure size 1500x700 with 16 Axes>"
      ]
     },
     "metadata": {},
     "output_type": "display_data"
    }
   ],
   "source": [
    "nn.forward_prop(x_train_2)\n",
    "output_test = nn.get_output()\n",
    "fig, ax = plt.subplots(2, 8, figsize=(15, 7))\n",
    "plt.style.use('ggplot')\n",
    "for i in range(len(random_sample)):\n",
    "    ax[0, i].imshow(x_train_2[random_sample[i]].reshape(28, 28), cmap='winter')\n",
    "    ax[1, i].imshow(output_test[random_sample[i]].reshape(28, 28), cmap='winter')\n",
    "    ax[0, i].set_xticks([])\n",
    "    ax[0, i].set_yticks([])\n",
    "    ax[1, i].set_xticks([])\n",
    "    ax[1, i].set_yticks([])\n",
    "   \n",
    "fig.tight_layout()\n",
    "fig.savefig('../assets/sample_output.png')"
   ]
  },
  {
   "cell_type": "code",
   "execution_count": null,
   "metadata": {},
   "outputs": [],
   "source": [
    "random_sample = get_random_list(5, 100)\n",
    "print(random_sample)"
   ]
  },
  {
   "cell_type": "code",
   "execution_count": 19,
   "metadata": {},
   "outputs": [],
   "source": [
    "def digit_extract(data):\n",
    "    digits = dict()\n",
    "    for i in range(10):\n",
    "        digits[i] = get_index_digit(i, data)\n",
    "    return digits"
   ]
  },
  {
   "cell_type": "code",
   "execution_count": 20,
   "metadata": {},
   "outputs": [],
   "source": [
    "test_digits_1, test_digits_2 = digit_extract(y_test_1), digit_extract(y_test_2)"
   ]
  },
  {
   "cell_type": "code",
   "execution_count": null,
   "metadata": {},
   "outputs": [],
   "source": [
    "test_digits_2"
   ]
  },
  {
   "cell_type": "code",
   "execution_count": null,
   "metadata": {},
   "outputs": [],
   "source": [
    "def get_random_sample(data1=list, data2=list):\n",
    "    random_sample = dict()\n",
    "    for i in range(10):\n",
    "        if i < 5:\n",
    "            random_sample.setdefault(i, []).append(data1[i], replace=False)\n",
    "            \n",
    "        elif i >= 5:\n",
    "            random_sample.setdefault(i, []).append(data1[i], replace=False)\n",
    "    return random_sample            "
   ]
  },
  {
   "cell_type": "code",
   "execution_count": null,
   "metadata": {},
   "outputs": [],
   "source": [
    "test_random_sample = get_random_sample(test_digits_1, test_digits_2)"
   ]
  },
  {
   "cell_type": "code",
   "execution_count": null,
   "metadata": {},
   "outputs": [],
   "source": [
    "test_random_sample"
   ]
  },
  {
   "cell_type": "code",
   "execution_count": null,
   "metadata": {},
   "outputs": [],
   "source": []
  }
 ],
 "metadata": {
  "kernelspec": {
   "display_name": "Python 3 (ipykernel)",
   "language": "python",
   "name": "python3"
  },
  "language_info": {
   "codemirror_mode": {
    "name": "ipython",
    "version": 3
   },
   "file_extension": ".py",
   "mimetype": "text/x-python",
   "name": "python",
   "nbconvert_exporter": "python",
   "pygments_lexer": "ipython3",
   "version": "3.11.0"
  },
  "vscode": {
   "interpreter": {
    "hash": "e79c9b4dc955595e7f11f70f4f1c2000e30fde47a19708ab60dcdade70e6665e"
   }
  }
 },
 "nbformat": 4,
 "nbformat_minor": 4
}
